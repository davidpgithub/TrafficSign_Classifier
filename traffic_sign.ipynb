{
 "cells": [
  {
   "cell_type": "code",
   "execution_count": 224,
   "id": "a9a0b673",
   "metadata": {},
   "outputs": [
    {
     "name": "stdout",
     "output_type": "stream",
     "text": [
      "Warning: Looks like you're using an outdated `kagglehub` version (installed: 0.3.12), please consider upgrading to the latest version (0.3.13).\n",
      "Path to dataset files: C:\\Users\\pohlm\\.cache\\kagglehub\\datasets\\meowmeowmeowmeowmeow\\gtsrb-german-traffic-sign\\versions\\1\n"
     ]
    }
   ],
   "source": [
    "import kagglehub\n",
    "\n",
    "# Download latest version\n",
    "path = kagglehub.dataset_download(\"meowmeowmeowmeowmeow/gtsrb-german-traffic-sign\")\n",
    "\n",
    "print(\"Path to dataset files:\", path)"
   ]
  },
  {
   "cell_type": "code",
   "execution_count": 254,
   "id": "5ed3c54b",
   "metadata": {},
   "outputs": [],
   "source": [
    "import pandas as pd\n",
    "from PIL import Image\n",
    "import torch\n",
    "from torchvision import transforms\n",
    "from torch.utils.data import DataLoader, TensorDataset\n",
    "import torch.nn as nn\n",
    "import numpy as np\n",
    "import seaborn as sns\n",
    "import matplotlib.pyplot as plt\n",
    "import torch.nn.functional as F\n",
    "from sklearn.model_selection import train_test_split\n",
    "from torchvision.models import resnet50,resnet18\n",
    "import torch.optim as optim"
   ]
  },
  {
   "cell_type": "code",
   "execution_count": 226,
   "id": "f78f38d8",
   "metadata": {},
   "outputs": [],
   "source": [
    "# read train dataset, filter for speed signs\n",
    "train=pd.read_csv(\"Train.csv\")\n",
    "train.head(5)\n",
    "train.ClassId.unique()\n",
    "\n",
    "wanted_speeds=[1,2,3,4]\n",
    "# class 0-> 20 speed , 1 -> 30 speed, 2 -> 50 , 3 -> 60, 4 -> 70"
   ]
  },
  {
   "cell_type": "code",
   "execution_count": 227,
   "id": "1af1393c",
   "metadata": {},
   "outputs": [
    {
     "data": {
      "application/vnd.microsoft.datawrangler.viewer.v0+json": {
       "columns": [
        {
         "name": "index",
         "rawType": "int64",
         "type": "integer"
        },
        {
         "name": "Width",
         "rawType": "int64",
         "type": "integer"
        },
        {
         "name": "Height",
         "rawType": "int64",
         "type": "integer"
        },
        {
         "name": "Roi.X1",
         "rawType": "int64",
         "type": "integer"
        },
        {
         "name": "Roi.Y1",
         "rawType": "int64",
         "type": "integer"
        },
        {
         "name": "Roi.X2",
         "rawType": "int64",
         "type": "integer"
        },
        {
         "name": "Roi.Y2",
         "rawType": "int64",
         "type": "integer"
        },
        {
         "name": "ClassId",
         "rawType": "int64",
         "type": "integer"
        },
        {
         "name": "Path",
         "rawType": "object",
         "type": "string"
        }
       ],
       "ref": "862dd8a7-df5c-4e8d-b60f-b42dbc1be683",
       "rows": [
        [
         "0",
         "27",
         "26",
         "5",
         "5",
         "22",
         "20",
         "20",
         "Train/20/00020_00000_00000.png"
        ],
        [
         "1",
         "28",
         "27",
         "5",
         "6",
         "23",
         "22",
         "20",
         "Train/20/00020_00000_00001.png"
        ],
        [
         "2",
         "29",
         "26",
         "6",
         "5",
         "24",
         "21",
         "20",
         "Train/20/00020_00000_00002.png"
        ],
        [
         "3",
         "28",
         "27",
         "5",
         "6",
         "23",
         "22",
         "20",
         "Train/20/00020_00000_00003.png"
        ],
        [
         "4",
         "28",
         "26",
         "5",
         "5",
         "23",
         "21",
         "20",
         "Train/20/00020_00000_00004.png"
        ]
       ],
       "shape": {
        "columns": 8,
        "rows": 5
       }
      },
      "text/html": [
       "<div>\n",
       "<style scoped>\n",
       "    .dataframe tbody tr th:only-of-type {\n",
       "        vertical-align: middle;\n",
       "    }\n",
       "\n",
       "    .dataframe tbody tr th {\n",
       "        vertical-align: top;\n",
       "    }\n",
       "\n",
       "    .dataframe thead th {\n",
       "        text-align: right;\n",
       "    }\n",
       "</style>\n",
       "<table border=\"1\" class=\"dataframe\">\n",
       "  <thead>\n",
       "    <tr style=\"text-align: right;\">\n",
       "      <th></th>\n",
       "      <th>Width</th>\n",
       "      <th>Height</th>\n",
       "      <th>Roi.X1</th>\n",
       "      <th>Roi.Y1</th>\n",
       "      <th>Roi.X2</th>\n",
       "      <th>Roi.Y2</th>\n",
       "      <th>ClassId</th>\n",
       "      <th>Path</th>\n",
       "    </tr>\n",
       "  </thead>\n",
       "  <tbody>\n",
       "    <tr>\n",
       "      <th>0</th>\n",
       "      <td>27</td>\n",
       "      <td>26</td>\n",
       "      <td>5</td>\n",
       "      <td>5</td>\n",
       "      <td>22</td>\n",
       "      <td>20</td>\n",
       "      <td>20</td>\n",
       "      <td>Train/20/00020_00000_00000.png</td>\n",
       "    </tr>\n",
       "    <tr>\n",
       "      <th>1</th>\n",
       "      <td>28</td>\n",
       "      <td>27</td>\n",
       "      <td>5</td>\n",
       "      <td>6</td>\n",
       "      <td>23</td>\n",
       "      <td>22</td>\n",
       "      <td>20</td>\n",
       "      <td>Train/20/00020_00000_00001.png</td>\n",
       "    </tr>\n",
       "    <tr>\n",
       "      <th>2</th>\n",
       "      <td>29</td>\n",
       "      <td>26</td>\n",
       "      <td>6</td>\n",
       "      <td>5</td>\n",
       "      <td>24</td>\n",
       "      <td>21</td>\n",
       "      <td>20</td>\n",
       "      <td>Train/20/00020_00000_00002.png</td>\n",
       "    </tr>\n",
       "    <tr>\n",
       "      <th>3</th>\n",
       "      <td>28</td>\n",
       "      <td>27</td>\n",
       "      <td>5</td>\n",
       "      <td>6</td>\n",
       "      <td>23</td>\n",
       "      <td>22</td>\n",
       "      <td>20</td>\n",
       "      <td>Train/20/00020_00000_00003.png</td>\n",
       "    </tr>\n",
       "    <tr>\n",
       "      <th>4</th>\n",
       "      <td>28</td>\n",
       "      <td>26</td>\n",
       "      <td>5</td>\n",
       "      <td>5</td>\n",
       "      <td>23</td>\n",
       "      <td>21</td>\n",
       "      <td>20</td>\n",
       "      <td>Train/20/00020_00000_00004.png</td>\n",
       "    </tr>\n",
       "  </tbody>\n",
       "</table>\n",
       "</div>"
      ],
      "text/plain": [
       "   Width  Height  Roi.X1  Roi.Y1  Roi.X2  Roi.Y2  ClassId  \\\n",
       "0     27      26       5       5      22      20       20   \n",
       "1     28      27       5       6      23      22       20   \n",
       "2     29      26       6       5      24      21       20   \n",
       "3     28      27       5       6      23      22       20   \n",
       "4     28      26       5       5      23      21       20   \n",
       "\n",
       "                             Path  \n",
       "0  Train/20/00020_00000_00000.png  \n",
       "1  Train/20/00020_00000_00001.png  \n",
       "2  Train/20/00020_00000_00002.png  \n",
       "3  Train/20/00020_00000_00003.png  \n",
       "4  Train/20/00020_00000_00004.png  "
      ]
     },
     "execution_count": 227,
     "metadata": {},
     "output_type": "execute_result"
    }
   ],
   "source": [
    "# \n",
    "train.head(5)\n"
   ]
  },
  {
   "cell_type": "code",
   "execution_count": 228,
   "id": "352aeec5",
   "metadata": {},
   "outputs": [],
   "source": [
    "# drop not used values\n",
    "train= train[train[\"ClassId\"].isin(wanted_speeds)]\n",
    "train.drop(columns=[\"Width\", \"Height\", \"Roi.X1\", \"Roi.Y1\", \"Roi.X2\", \"Roi.Y2\"], inplace=True)\n",
    "\n"
   ]
  },
  {
   "cell_type": "code",
   "execution_count": 229,
   "id": "9f88b31b",
   "metadata": {},
   "outputs": [
    {
     "data": {
      "text/plain": [
       "0"
      ]
     },
     "execution_count": 229,
     "metadata": {},
     "output_type": "execute_result"
    }
   ],
   "source": [
    "sum(train.duplicated())"
   ]
  },
  {
   "cell_type": "code",
   "execution_count": 230,
   "id": "fb295904",
   "metadata": {},
   "outputs": [
    {
     "data": {
      "image/png": "[encoded data removed]",
      "text/plain": [
       "<Figure size 640x480 with 1 Axes>"
      ]
     },
     "metadata": {},
     "output_type": "display_data"
    }
   ],
   "source": [
    "#see distribution of classes\n",
    "sns.countplot(x = \"ClassId\", data = train)\n",
    "plt.show()"
   ]
  },
  {
   "cell_type": "code",
   "execution_count": 231,
   "id": "8e34f03d",
   "metadata": {},
   "outputs": [
    {
     "data": {
      "image/png": "[encoded data removed]",
      "text/plain": [
       "<Figure size 640x480 with 1 Axes>"
      ]
     },
     "metadata": {},
     "output_type": "display_data"
    }
   ],
   "source": [
    "sns.countplot(x = \"ClassId\", data = train)\n",
    "plt.show()"
   ]
  },
  {
   "cell_type": "code",
   "execution_count": 232,
   "id": "08ecf244",
   "metadata": {},
   "outputs": [],
   "source": [
    "def preprocess(path):\n",
    "    df= pd.read_csv(path+\".csv\")\n",
    "    df= df[df[\"ClassId\"].isin(wanted_speeds)]\n",
    "    df.drop(columns=[\"Width\", \"Height\", \"Roi.X1\", \"Roi.Y1\", \"Roi.X2\", \"Roi.Y2\"], inplace=True)\n",
    "    return df.reset_index(drop=True)"
   ]
  },
  {
   "cell_type": "code",
   "execution_count": 233,
   "id": "3a7a4cb9",
   "metadata": {},
   "outputs": [
    {
     "name": "stdout",
     "output_type": "stream",
     "text": [
      "<class 'pandas.core.frame.DataFrame'>\n",
      "RangeIndex: 2580 entries, 0 to 2579\n",
      "Data columns (total 2 columns):\n",
      " #   Column   Non-Null Count  Dtype \n",
      "---  ------   --------------  ----- \n",
      " 0   ClassId  2580 non-null   int64 \n",
      " 1   Path     2580 non-null   object\n",
      "dtypes: int64(1), object(1)\n",
      "memory usage: 40.4+ KB\n"
     ]
    },
    {
     "data": {
      "application/vnd.microsoft.datawrangler.viewer.v0+json": {
       "columns": [
        {
         "name": "index",
         "rawType": "int64",
         "type": "integer"
        },
        {
         "name": "ClassId",
         "rawType": "int64",
         "type": "integer"
        },
        {
         "name": "Path",
         "rawType": "object",
         "type": "string"
        }
       ],
       "ref": "d65298ca-954c-4223-8b40-db73484a157f",
       "rows": [
        [
         "0",
         "1",
         "Test/00001.png"
        ],
        [
         "1",
         "4",
         "Test/00014.png"
        ],
        [
         "2",
         "4",
         "Test/00020.png"
        ],
        [
         "3",
         "3",
         "Test/00023.png"
        ],
        [
         "4",
         "1",
         "Test/00024.png"
        ]
       ],
       "shape": {
        "columns": 2,
        "rows": 5
       }
      },
      "text/html": [
       "<div>\n",
       "<style scoped>\n",
       "    .dataframe tbody tr th:only-of-type {\n",
       "        vertical-align: middle;\n",
       "    }\n",
       "\n",
       "    .dataframe tbody tr th {\n",
       "        vertical-align: top;\n",
       "    }\n",
       "\n",
       "    .dataframe thead th {\n",
       "        text-align: right;\n",
       "    }\n",
       "</style>\n",
       "<table border=\"1\" class=\"dataframe\">\n",
       "  <thead>\n",
       "    <tr style=\"text-align: right;\">\n",
       "      <th></th>\n",
       "      <th>ClassId</th>\n",
       "      <th>Path</th>\n",
       "    </tr>\n",
       "  </thead>\n",
       "  <tbody>\n",
       "    <tr>\n",
       "      <th>0</th>\n",
       "      <td>1</td>\n",
       "      <td>Test/00001.png</td>\n",
       "    </tr>\n",
       "    <tr>\n",
       "      <th>1</th>\n",
       "      <td>4</td>\n",
       "      <td>Test/00014.png</td>\n",
       "    </tr>\n",
       "    <tr>\n",
       "      <th>2</th>\n",
       "      <td>4</td>\n",
       "      <td>Test/00020.png</td>\n",
       "    </tr>\n",
       "    <tr>\n",
       "      <th>3</th>\n",
       "      <td>3</td>\n",
       "      <td>Test/00023.png</td>\n",
       "    </tr>\n",
       "    <tr>\n",
       "      <th>4</th>\n",
       "      <td>1</td>\n",
       "      <td>Test/00024.png</td>\n",
       "    </tr>\n",
       "  </tbody>\n",
       "</table>\n",
       "</div>"
      ],
      "text/plain": [
       "   ClassId            Path\n",
       "0        1  Test/00001.png\n",
       "1        4  Test/00014.png\n",
       "2        4  Test/00020.png\n",
       "3        3  Test/00023.png\n",
       "4        1  Test/00024.png"
      ]
     },
     "execution_count": 233,
     "metadata": {},
     "output_type": "execute_result"
    }
   ],
   "source": [
    "test= preprocess(\"Test\")\n",
    "test.info()\n",
    "test.head(5)"
   ]
  },
  {
   "cell_type": "code",
   "execution_count": 234,
   "id": "a11708ce",
   "metadata": {},
   "outputs": [
    {
     "data": {
      "image/png": "[encoded data removed]",
      "text/plain": [
       "<Figure size 640x480 with 1 Axes>"
      ]
     },
     "metadata": {},
     "output_type": "display_data"
    }
   ],
   "source": [
    "#see distribution of classes\n",
    "sns.countplot(x = \"ClassId\", data = test)\n",
    "plt.show()"
   ]
  },
  {
   "cell_type": "code",
   "execution_count": 235,
   "id": "3f3a65e7",
   "metadata": {},
   "outputs": [],
   "source": [
    "n= len(test)//2\n",
    "train_df,valid_df= train_test_split(train, test_size=0.15, random_state=42)\n",
    "test_df= test"
   ]
  },
  {
   "cell_type": "code",
   "execution_count": 236,
   "id": "1a9df30c",
   "metadata": {},
   "outputs": [
    {
     "data": {
      "text/plain": [
       "(1179, 2)"
      ]
     },
     "execution_count": 236,
     "metadata": {},
     "output_type": "execute_result"
    }
   ],
   "source": [
    "valid_df.shape"
   ]
  },
  {
   "cell_type": "code",
   "execution_count": 237,
   "id": "08eb24d4",
   "metadata": {},
   "outputs": [],
   "source": [
    "transform = transforms.Compose([\n",
    "    transforms.Resize((32,32)),\n",
    "    transforms.ToTensor()  # scales pixel values to [0,1], shape (3, H, W)\n",
    "])\n",
    "\n",
    "class TrafficSignDataset():\n",
    "    def __init__(self, df,  transform=None):\n",
    "      \n",
    "        self.data = df\n",
    "        self.labels = torch.tensor(df[\"ClassId\"].values, dtype=torch.long)\n",
    "        self.images = self.transforms(self.data[\"Path\"],transform)\n",
    "\n",
    "    def __getitem__(self,idx):\n",
    "        return self.images[idx], self.labels[idx]\n",
    "    \n",
    "    def __len__(self):\n",
    "        # number of samples\n",
    "        return len(self.data)\n",
    "    def transforms(self,series,transform):\n",
    "        path=series\n",
    "        image_list=[]\n",
    "        for p in path:\n",
    "\n",
    "            image = Image.open(p).convert(\"RGB\")\n",
    "            #print(image)\n",
    "            arr= transform(image)\n",
    "            image_list.append(arr)\n",
    "        image_tensor = torch.stack(image_list)\n",
    "        print(image_tensor.shape)\n",
    "        return image_tensor\n",
    "       "
   ]
  },
  {
   "cell_type": "code",
   "execution_count": 238,
   "id": "72603324",
   "metadata": {},
   "outputs": [
    {
     "name": "stdout",
     "output_type": "stream",
     "text": [
      "torch.Size([6681, 3, 32, 32])\n",
      "torch.Size([1179, 3, 32, 32])\n",
      "torch.Size([2580, 3, 32, 32])\n"
     ]
    }
   ],
   "source": [
    "train_dataset= TrafficSignDataset(train_df, transform=transform)\n",
    "valid_dataset= TrafficSignDataset(valid_df, transform=transform)\n",
    "test_dataset= TrafficSignDataset(test_df, transform=transform)"
   ]
  },
  {
   "cell_type": "code",
   "execution_count": null,
   "id": "54673172",
   "metadata": {},
   "outputs": [],
   "source": []
  },
  {
   "cell_type": "code",
   "execution_count": 239,
   "id": "871950ad",
   "metadata": {},
   "outputs": [],
   "source": [
    "train_loader= DataLoader(train_dataset, batch_size=32, shuffle=True)\n",
    "valid_loader= DataLoader(valid_dataset, batch_size=32, shuffle=True)\n",
    "test_loader= DataLoader(test_dataset, batch_size=32, shuffle=False)"
   ]
  },
  {
   "cell_type": "code",
   "execution_count": 240,
   "id": "4392dbff",
   "metadata": {},
   "outputs": [
    {
     "name": "stdout",
     "output_type": "stream",
     "text": [
      "torch.Size([32, 3, 32, 32])\n",
      "torch.Size([32])\n"
     ]
    }
   ],
   "source": [
    "for batch_images, batch_labels in train_loader:\n",
    "    print(batch_images.shape)  # torch.Size([32, 3, 32, 32])\n",
    "    print(batch_labels.shape)  # torch.Size([32])\n",
    "    break"
   ]
  },
  {
   "cell_type": "code",
   "execution_count": 266,
   "id": "a470a58b",
   "metadata": {},
   "outputs": [],
   "source": [
    "# Task Create a deep learning Model with pytorch to classify the images\n",
    "\n",
    "class TrafficSignNet(nn.Module):\n",
    "    def __init__(self, num_classes=5):\n",
    "        super(TrafficSignNet, self).__init__()\n",
    "        self.conv1 = nn.Conv2d(3, 32, kernel_size=3, padding=1)\n",
    "        self.conv2 = nn.Conv2d(32, 64, kernel_size=3, padding=1)\n",
    "        self.pool = nn.MaxPool2d(2, 2) # reduces from 32x32 to 16x16\n",
    "        self.dropout = nn.Dropout(p=0.3)\n",
    "        self.fc1= nn.Linear(64*16*16, 128)\n",
    "        self.fc2 = nn.Linear(128, num_classes)\n",
    "\n",
    "    def forward(self,x):\n",
    "        #print(x.shape) #(32,3,32,32)\n",
    "        x= self.conv1(x) #(32,32,32,32)\n",
    "      \n",
    "        x = F.relu(x)\n",
    "        x= self.conv2(x)\n",
    "        x = F.relu(x)\n",
    "        x=self.pool(x)\n",
    "        #print(x.shape)\n",
    "        \n",
    "        #x = F.max_pool2d(x, 2, 2)\n",
    "        x = torch.flatten(x, 1)\n",
    "        x= self.fc1(x)\n",
    "        x= self.dropout(x)\n",
    "        x = self.fc2(F.relu(x))\n",
    "        #print(x.shape)\n",
    "        return x"
   ]
  },
  {
   "cell_type": "code",
   "execution_count": 275,
   "id": "73ba4825",
   "metadata": {},
   "outputs": [
    {
     "name": "stdout",
     "output_type": "stream",
     "text": [
      "Epoch [1/50] Train Loss: 0.8705, Train Acc: 0.6336 Val Loss: 0.4033, Val Acc: 0.8719\n",
      "Epoch [11/50] Train Loss: 0.0062, Train Acc: 0.9988 Val Loss: 0.0204, Val Acc: 0.9932\n",
      "Epoch [21/50] Train Loss: 0.0060, Train Acc: 0.9994 Val Loss: 0.0206, Val Acc: 0.9932\n",
      "Epoch [31/50] Train Loss: 0.0067, Train Acc: 0.9994 Val Loss: 0.0201, Val Acc: 0.9932\n",
      "Epoch [41/50] Train Loss: 0.0059, Train Acc: 0.9990 Val Loss: 0.0201, Val Acc: 0.9932\n"
     ]
    }
   ],
   "source": [
    "# Training Loop\n",
    "device = torch.device(\"cuda\" if torch.cuda.is_available() else \"cpu\")\n",
    "model = TrafficSignNet(num_classes=5).to(device)\n",
    "#model = resnet18(weights=None).to(device)\n",
    "\n",
    "criterion = nn.CrossEntropyLoss()\n",
    "optimizer = optim.Adam(model.parameters(), lr=0.001) #weight decay for l2 regularization\n",
    "#optimizer = torch.optim.SGD(model.parameters(), lr=0.01)\n",
    "scheduler = optim.lr_scheduler.StepLR(optimizer, step_size=5, gamma=0.1)\n",
    "\n",
    "num_epochs = 50\n",
    "\n",
    "for epoch in range(num_epochs):\n",
    "    # Training phase\n",
    "    model.train()\n",
    "    train_loss, correct, total = 0, 0, 0\n",
    "    for images, labels in train_loader:\n",
    "        images, labels = images.to(device), labels.to(device)\n",
    "\n",
    "        optimizer.zero_grad()\n",
    "        outputs = model(images)\n",
    "        loss = criterion(outputs, labels)\n",
    "        loss.backward()\n",
    "        optimizer.step()\n",
    "\n",
    "        train_loss += loss.item()\n",
    "        _, predicted = torch.max(outputs, 1)\n",
    "        correct += (predicted == labels).sum().item()\n",
    "        total += labels.size(0)\n",
    "    \n",
    "    scheduler.step()\n",
    "    train_acc = correct/total\n",
    "    avg_loss = train_loss / len(train_loader)\n",
    "\n",
    "    # Validation phase\n",
    "    model.eval()\n",
    "    val_loss, correct, total = 0, 0, 0\n",
    "    with torch.no_grad():\n",
    "        for images, labels in valid_loader:\n",
    "            images, labels = images.to(device), labels.to(device)\n",
    "            outputs = model(images)\n",
    "            #print(labels)\n",
    "            loss = criterion(outputs, labels)\n",
    "\n",
    "            val_loss += loss.item()\n",
    "            _, predicted = torch.max(outputs, 1)\n",
    "            correct += (predicted == labels).sum().item()\n",
    "            total += labels.size(0)\n",
    "\n",
    "    val_acc = correct/total\n",
    "    avg_val_loss = val_loss / len(valid_loader)\n",
    "    if epoch %10==0:\n",
    "        print(f\"Epoch [{epoch+1}/{num_epochs}] \"\n",
    "            f\"Train Loss: {avg_loss:.4f}, Train Acc: {train_acc:.4f} \"\n",
    "            f\"Val Loss: {avg_val_loss:.4f}, Val Acc: {val_acc:.4f}\")\n"
   ]
  },
  {
   "cell_type": "code",
   "execution_count": 276,
   "id": "5adfad93",
   "metadata": {},
   "outputs": [
    {
     "name": "stdout",
     "output_type": "stream",
     "text": [
      "Test Loss: 0.0990, Test Acc: 0.9709\n"
     ]
    }
   ],
   "source": [
    "# on test data\n",
    "all_preds=[]\n",
    "all_labels=[]\n",
    "test_loss, correct, total = 0, 0, 0\n",
    "model.eval()\n",
    "with torch.no_grad():\n",
    "    for images, labels in test_loader:\n",
    "        images, labels = images.to(device), labels.to(device)\n",
    "        outputs = model(images)\n",
    "        loss = criterion(outputs, labels)\n",
    "        test_loss += loss.item()\n",
    "        \n",
    "        _, predicted = torch.max(outputs, 1)\n",
    "        \n",
    "        correct += (predicted == labels).sum().item()\n",
    "        total += labels.size(0)\n",
    "        all_preds.append(predicted)\n",
    "        all_labels.append(labels)\n",
    "\n",
    "test_acc = correct / total\n",
    "avg_test_loss =test_loss / len(test_loader)\n",
    "\n",
    "print(f\"Test Loss: {avg_test_loss:.4f}, Test Acc: {test_acc:.4f}\")"
   ]
  },
  {
   "cell_type": "code",
   "execution_count": 277,
   "id": "d9ef9c4a",
   "metadata": {},
   "outputs": [],
   "source": [
    "label_array = np.concatenate(all_labels)\n",
    "\n",
    "pred_array = np.concatenate(all_preds)\n"
   ]
  },
  {
   "cell_type": "code",
   "execution_count": 279,
   "id": "b2abe297",
   "metadata": {},
   "outputs": [
    {
     "name": "stdout",
     "output_type": "stream",
     "text": [
      "Label:  [4 4 1 2 1 2 4 3 1 4 4 2 4 1 2 4 1 1 2 3]\n",
      "Predi:  [4 4 1 2 1 2 4 3 1 4 4 2 4 1 2 4 1 1 2 3]\n"
     ]
    }
   ],
   "source": [
    "print(\"Label: \", label_array[1700:1720])\n",
    "print(\"Predi: \", pred_array[1700:1720])"
   ]
  },
  {
   "cell_type": "code",
   "execution_count": 278,
   "id": "b515d3f1",
   "metadata": {},
   "outputs": [
    {
     "name": "stdout",
     "output_type": "stream",
     "text": [
      "Accuracy:  0.9709302325581395\n"
     ]
    }
   ],
   "source": [
    "def accuracy(y_true, y_pred):\n",
    "    accuracy = np.sum(y_true == y_pred) / len(y_true)\n",
    "    return accuracy\n",
    "\n",
    "print(\"Accuracy: \", accuracy(label_array, pred_array))"
   ]
  },
  {
   "cell_type": "code",
   "execution_count": null,
   "id": "04ab3a0b",
   "metadata": {},
   "outputs": [],
   "source": [
    "# Accuracies, jedoch ohne Seed und Hyperparameteroptimierung\n",
    "\n",
    "# Using adam, learning rate 0.001, epochen=10\n",
    "# resnet18  test loss: 0.1223 model accuracy: 0.9578\n",
    "# traffisgnnet test loss: 0.2067 model accuracy: 0.9512\n",
    "\n",
    "# epochen= 50, lr scheduler\n",
    "# trafficsignnet  Test Loss: 0.1281, Test Acc: 0.9620\n",
    "\n",
    "# dropout 0.3 , epochen=50, lr scheduler\n",
    "# trafficsignnet Test Loss: 0.0953, Test Acc: 0.9717\n",
    "\n",
    "# dropout 0.5 , epochen=50, lr scheduler\n",
    "# trafficsignnet Test Loss: 0.1097, Test Acc: 0.9671\n",
    "\n",
    "# dropout 0.3 sgd optimizer lr 0.001\n",
    "# trafficsignnet Test Loss: 1.3082, Test Acc: 0.4186\n",
    "\n",
    "# dropout 0.3 sgd optimizer lr 0.01\n",
    "# trafficsignnet Test Loss: 0.8728, Test Acc: 0.6740\n"
   ]
  }
 ],
 "metadata": {
  "kernelspec": {
   "display_name": "Python 3",
   "language": "python",
   "name": "python3"
  },
  "language_info": {
   "codemirror_mode": {
    "name": "ipython",
    "version": 3
   },
   "file_extension": ".py",
   "mimetype": "text/x-python",
   "name": "python",
   "nbconvert_exporter": "python",
   "pygments_lexer": "ipython3",
   "version": "3.11.1"
  }
 },
 "nbformat": 4,
 "nbformat_minor": 5
}
